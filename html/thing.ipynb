{
 "cells": [
  {
   "cell_type": "code",
   "execution_count": null,
   "metadata": {},
   "outputs": [],
   "source": [
    "import re\n",
    "import pickle\n",
    "import pandas as pd\n",
    "\n",
    "with open('list', 'rb') as f:\n",
    "\tl = pickle.load(f)"
   ]
  },
  {
   "cell_type": "code",
   "execution_count": null,
   "metadata": {},
   "outputs": [],
   "source": [
    "import requests\n",
    "from tqdm import tqdm\n",
    "\n",
    "s = requests.Session()\n",
    "for p in tqdm(l):\n",
    "\twith open(p, 'w') as f:\n",
    "\t\tf.write(s.get(\"https://www.felixcloutier.com/x86/\" + p).text)"
   ]
  },
  {
   "cell_type": "code",
   "execution_count": null,
   "metadata": {},
   "outputs": [],
   "source": [
    "for p in tqdm(l):\n",
    "\twith open(p, 'r+') as f:\n",
    "\t\ttmp = f.read()\n",
    "\t\ttmp = tmp[tmp.find('<table'):tmp.find('</table>') + 8]\n",
    "\t\tf.seek(0)\n",
    "\t\tf.write(tmp)\n",
    "\t\tf.truncate()"
   ]
  },
  {
   "cell_type": "code",
   "execution_count": null,
   "metadata": {},
   "outputs": [],
   "source": [
    "things = []\n",
    "for file in l:\n",
    "\twith open(file, 'r') as f:\n",
    "\t\tdf = pd.read_html(f.read())[0]\n",
    "\t# if 'Opcode/Instruction' in df.keys():\n",
    "\t# \tthings.append(df)\n",
    "\tif 'Opcode**' in df.keys() and 'Instruction' in df.keys():\n",
    "\t\tthing = []\n",
    "\t\tfor i in range(df.shape[0]):\n",
    "\t\t\tthing.append(str(df['Opcode**'][i]) + ' ' + str(df['Instruction'][i]))\n",
    "\t\tdf.insert(0, 'Opcode/Instruction', thing, True)\n",
    "\t\tdf.drop(['Opcode**', 'Instruction'], 1, inplace=True)\n",
    "\t\tthings.append(df)\n",
    "\tif 'Opcode***' in df.keys() and 'Instruction' in df.keys():\n",
    "\t\tthing = []\n",
    "\t\tfor i in range(df.shape[0]):\n",
    "\t\t\tthing.append(str(df['Opcode***'][i]) + ' ' + str(df['Instruction'][i]))\n",
    "\t\tdf.insert(0, 'Opcode/Instruction', thing, True)\n",
    "\t\tdf.drop(['Opcode***', 'Instruction'], 1, inplace=True)\n",
    "\t\tthings.append(df)"
   ]
  },
  {
   "cell_type": "code",
   "execution_count": null,
   "metadata": {},
   "outputs": [],
   "source": [
    "for thing in things:\n",
    "\tfor i in range(thing.shape[0] - 1, -1, -1):\n",
    "\t\tif thing['Opcode/Instruction'][i].startswith('VEX') or thing['Opcode/Instruction'][i].startswith('EVEX'):\n",
    "\t\t\tthing.drop(i, inplace=True)\n",
    "\t\t\tcontinue\n",
    "\t\t# remove 64-bit incompatible instructions (in column 2)\n",
    "\t\tif not thing.iloc[i][2].startswith('V'):\n",
    "\t\t\tthing.drop(i, inplace=True)\n",
    "things"
   ]
  },
  {
   "cell_type": "code",
   "execution_count": null,
   "metadata": {},
   "outputs": [],
   "source": [
    "for i in range(len(things) - 1, -1, -1):\n",
    "\tif (things[i].shape[0] == 0):\n",
    "\t\tthings.pop(i)\n",
    "things"
   ]
  },
  {
   "cell_type": "code",
   "execution_count": null,
   "metadata": {},
   "outputs": [],
   "source": [
    "for thing in things:\n",
    "\tfor i in range(thing.shape[1] - 1, 0, -1):\n",
    "\t\tthing.drop(thing.columns[-1], axis=1, inplace=True)\n",
    "things[1]"
   ]
  },
  {
   "cell_type": "code",
   "execution_count": null,
   "metadata": {},
   "outputs": [],
   "source": [
    "things[24]"
   ]
  },
  {
   "cell_type": "code",
   "execution_count": null,
   "metadata": {},
   "outputs": [],
   "source": [
    "s = []\n",
    "for thing in things:\n",
    "\tfor entry in thing['Opcode/Instruction']:\n",
    "\t\ts.append(entry)\n",
    "s"
   ]
  },
  {
   "cell_type": "code",
   "execution_count": null,
   "metadata": {},
   "outputs": [],
   "source": [
    "tmp = [str(line) for line in s]\n",
    "for i, line in enumerate(s):\n",
    "\ta = line.split('                                                                                     ')\n",
    "\ta[1] = a[1].replace(' ', '')\n",
    "\ts[i] = a[0] + ' ' + a[1]\n",
    "s"
   ]
  },
  {
   "cell_type": "code",
   "execution_count": null,
   "metadata": {},
   "outputs": [],
   "source": [
    "# s = tmp\n",
    "[print(x) for x in s]"
   ]
  },
  {
   "cell_type": "code",
   "execution_count": null,
   "metadata": {},
   "outputs": [],
   "source": [
    "new = [x for x in s]\n",
    "s.sort()\n",
    "prev = s[0].split(' ')[0]\n",
    "for line in s:\n",
    "\tif line.split(' ')[0] != prev:\n",
    "\t\tprint()\n",
    "\tprev = line.split(' ')[0]\n",
    "\tprint(line)\n",
    "s = new"
   ]
  }
 ],
 "metadata": {
  "kernelspec": {
   "display_name": "Python 3",
   "language": "python",
   "name": "python3"
  },
  "language_info": {
   "codemirror_mode": {
    "name": "ipython",
    "version": 3
   },
   "file_extension": ".py",
   "mimetype": "text/x-python",
   "name": "python",
   "nbconvert_exporter": "python",
   "pygments_lexer": "ipython3",
   "version": "3.9.2"
  },
  "orig_nbformat": 4
 },
 "nbformat": 4,
 "nbformat_minor": 2
}
